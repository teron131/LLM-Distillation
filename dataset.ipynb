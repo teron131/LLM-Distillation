{
 "cells": [
  {
   "cell_type": "code",
   "execution_count": 1,
   "id": "ade94b25",
   "metadata": {},
   "outputs": [
    {
     "name": "stdout",
     "output_type": "stream",
     "text": [
      "Deleting duplicate file: global-energy-perspective-2024 (1).pdf\n",
      "Deleting duplicate file: retailers-climate-road-map-charting-paths-to-decarbonized-value-chains (1).pdf\n",
      "Deleting duplicate file: a-new-future-of-work-the-race-to-deploy-ai-and-raise-skills-in-europe-and-beyond (1).pdf\n",
      "Deleting duplicate file: mckinsey-global-private-markets-review-2024 (1).pdf\n",
      "Deleting duplicate file: steady-progress-in-approaching-the-quantum-advantage (1).pdf\n",
      "Deleting duplicate file: closing-the-womens-health-gap-report (1).pdf\n",
      "Deleting duplicate file: the-cyber-clock-is-ticking-derisking-emerging-technologies-in-financial-services (1).pdf\n",
      "Deleting duplicate file: superagency-in-the-workplace-empowering-people-to-unlock-ais-full-potential-v3 (1).pdf\n",
      "Deleting duplicate file: the-next-big-arenas-of-competition_final3 (1).pdf\n",
      "Deleting duplicate file: gbar-2024-attaining-escape-velocity-f (1).pdf\n",
      "Deleting duplicate file: the-state-of-fashion-2025-v2 (1).pdf\n",
      "Deleting duplicate file: sporting-goods-2025-the-new-balancing-act-turning-uncertainty-into-opportunity-v3 (1).pdf\n",
      "Deleting duplicate file: netherlands-advanced-building-a-future-labor-market-that-works (1).pdf\n",
      "Deleting duplicate file: women-in-the-workplace-2024 (1).pdf\n",
      "Deleting duplicate file: the-hard-stuff-navigating-the-physical-realities-of-the-energy-transition (1).pdf\n",
      "Deleting duplicate file: a-microscope-on-small-businesses-spotting-opportunities-to-boost-productivity (1).pdf\n",
      "Deleting duplicate file: the-state-of-ai-how-organizations-are-rewiring-to-capture-value_final (1).pdf\n",
      "Deleting duplicate file: mckinsey-technology-trends-outlook-2024 (1).pdf\n",
      "Deleting duplicate file: the-power-of-one-how-standout-firms-grow-national-productivity_vfinal (1).pdf\n",
      "Deleting duplicate file: global-insurance-report-2025-the-pursuit-of-growth (1).pdf\n",
      "Deleting duplicate file: m-and-a-annual-report-2025-v3 (1).pdf\n",
      "Deleting duplicate file: dependency-and-depopulation-confronting-the-consequences-of-a-new-demographic-reality (1).pdf\n",
      "Deleting duplicate file: from-margins-to-mainstream-asians-and-pacific-islanders-in-hollywood_final (1).pdf\n",
      "Deleting duplicate file: global-private-markets-report-2025-braced-for-shifting-weather (1).pdf\n",
      "Deleting duplicate file: the-state-of-black-residents-the-relevance-of-place-to-racial-equity-and-outcomes_final (1).pdf\n",
      "Deleting duplicate file: top-m-and-a-trends-in-2024 (1).pdf\n",
      "Deleting duplicate file: ai-for-social-good-improving-lives-and-protecting-the-planet-v2 (1).pdf\n",
      "Deleting duplicate file: mckinsey-technology-trends-outlook-2025 (1).pdf\n",
      "Deleting duplicate file: global-materials-perspective-2024 (1).pdf\n",
      "Deleting duplicate file: beyond-the-hype-capturing-the-potential-of-ai-and-gen-ai-in-tmt (1).pdf\n"
     ]
    }
   ],
   "source": [
    "from pathlib import Path\n",
    "\n",
    "\n",
    "def clean_input_duplicates(data_dir: Path = Path(\"./documents\")):\n",
    "    \"\"\"Cleans duplicates from the data directory.\"\"\"\n",
    "    duplicate_files = [f for f in data_dir.iterdir() if f.is_file() and \" (1).pdf\" in f.name]\n",
    "    for file in duplicate_files:\n",
    "        print(f\"Deleting duplicate file: {file.name}\")\n",
    "        file.unlink()\n",
    "\n",
    "\n",
    "clean_input_duplicates()"
   ]
  }
 ],
 "metadata": {
  "kernelspec": {
   "display_name": ".venv",
   "language": "python",
   "name": "python3"
  },
  "language_info": {
   "codemirror_mode": {
    "name": "ipython",
    "version": 3
   },
   "file_extension": ".py",
   "mimetype": "text/x-python",
   "name": "python",
   "nbconvert_exporter": "python",
   "pygments_lexer": "ipython3",
   "version": "3.12.2"
  }
 },
 "nbformat": 4,
 "nbformat_minor": 5
}
